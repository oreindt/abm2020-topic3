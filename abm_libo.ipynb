{
 "cells": [
  {
   "cell_type": "code",
   "execution_count": 8,
   "metadata": {},
   "outputs": [
    {
     "data": {
      "text/plain": [
       "Plots.GRBackend()"
      ]
     },
     "execution_count": 8,
     "metadata": {},
     "output_type": "execute_result"
    }
   ],
   "source": [
    "using Random\n",
    "using StatsPlots\n",
    "using LightGraphs\n",
    "using FreqTables\n",
    "using Plots; gr() # Using the Plotly Backend"
   ]
  },
  {
   "cell_type": "code",
   "execution_count": 9,
   "metadata": {},
   "outputs": [
    {
     "data": {
      "text/plain": [
       "SimplePerson"
      ]
     },
     "execution_count": 9,
     "metadata": {},
     "output_type": "execute_result"
    }
   ],
   "source": [
    "# all possible states a person can be in\n",
    "@enum Status susceptible infected\n",
    "\n",
    "# this is our agent type\n",
    "mutable struct SimplePerson\n",
    "    # state\n",
    "    belief :: Float64\n",
    "    know :: Bool\n",
    "    checker :: Bool\n",
    "    # other agents this one can infect or be infected by\n",
    "    contacts :: Vector{SimplePerson}\n",
    "end\n",
    "\n",
    "# how we construct a person object\n",
    "SimplePerson(belief, know,checker) = SimplePerson(belief, know, checker,[])\n",
    "#SimplePerson() = SimplePerson(susceptible, [])   # default Person is susceptible and has no contacts\n",
    "#SimplePerson(state) = SimplePerson(state, [])  # default Person has no contacts"
   ]
  },
  {
   "cell_type": "code",
   "execution_count": 10,
   "metadata": {},
   "outputs": [],
   "source": [
    "# this is a parametric type\n",
    "# we can specify which type AGENT is going to be replaced with\n",
    "# when constructing our Simulation\n",
    "mutable struct Simulation{AGENT}\n",
    "    # model parameters:\n",
    "    # infection rate\n",
    "    #inf :: Float64\n",
    "    # recovery rate\n",
    "    #rec :: Float64\n",
    "    p :: Float64\n",
    "\n",
    "    # and this is our population of agents\n",
    "    pop :: Vector{AGENT}\n",
    "end"
   ]
  },
  {
   "cell_type": "code",
   "execution_count": 11,
   "metadata": {},
   "outputs": [
    {
     "data": {
      "text/plain": [
       "update! (generic function with 1 method)"
      ]
     },
     "execution_count": 11,
     "metadata": {},
     "output_type": "execute_result"
    }
   ],
   "source": [
    "# update an agent\n",
    "function update!(person, sim)\n",
    "    if person.know && rand() < sim.p\n",
    "        other = rand(person.contacts)\n",
    "        if other.know\n",
    "            if !other.checker\n",
    "                if other.belief < 0.5\n",
    "                    other.belief = (person.belief + other.belief) * 0.5\n",
    "                end\n",
    "            end\n",
    "        else\n",
    "            other.know = true\n",
    "            other.belief = person.belief * 0.9 \n",
    "        end\n",
    "        \n",
    "    end\n",
    "end"
   ]
  },
  {
   "cell_type": "code",
   "execution_count": 12,
   "metadata": {},
   "outputs": [
    {
     "data": {
      "text/plain": [
       "update_agents! (generic function with 1 method)"
      ]
     },
     "execution_count": 12,
     "metadata": {},
     "output_type": "execute_result"
    }
   ],
   "source": [
    "function update_agents!(sim)\n",
    "    # we need to change the order, otherwise agents at the beginning of the \n",
    "    # pop array will behave differently from those further in the back\n",
    "    order = shuffle(sim.pop)\n",
    "    \n",
    "    for p in order\n",
    "        update!(p, sim)\n",
    "    end\n",
    "end   "
   ]
  },
  {
   "cell_type": "code",
   "execution_count": 13,
   "metadata": {},
   "outputs": [
    {
     "data": {
      "text/plain": [
       "setup_mixed (generic function with 1 method)"
      ]
     },
     "execution_count": 13,
     "metadata": {},
     "output_type": "execute_result"
    }
   ],
   "source": [
    "# set up a mixed population\n",
    "# p_contact is the probability that two agents are connected\n",
    "function setup_mixed(n, p_contact)\n",
    "    pop = [ SimplePerson(rand(), false,false) for i=1:n ]\n",
    "    adj = SimpleGraph(n)\n",
    "    # go through all combinations of agents and \n",
    "    # check if they are connected\n",
    "    for i in eachindex(pop)\n",
    "        for j in i+1:length(pop)\n",
    "            if rand() < p_contact\n",
    "                push!(pop[i].contacts, pop[j])\n",
    "                push!(pop[j].contacts, pop[i])\n",
    "                add_edge!(adj, i, j)\n",
    "                add_edge!(adj, j, i)\n",
    "            end\n",
    "        end\n",
    "    end\n",
    "    pop,adj\n",
    "end"
   ]
  },
  {
   "cell_type": "code",
   "execution_count": 14,
   "metadata": {},
   "outputs": [],
   "source": [
    "# TODO add arguments\n",
    "#adj = SimpleGraph(1000);\n",
    "#pop,adj = setup_mixed(1000, 0.5) \n",
    "\n",
    "#pop[1].know = true\n",
    "#pop[2].know = true\n",
    "#pop[3].know = true\n",
    "\n",
    "# TODO add arguments\n",
    "#sim = Simulation(1.0, pop)\n",
    "\n",
    "#for i in 1:20\n",
    "#    update_agents!(sim)\n",
    "    \n",
    "    #println(count(p -> p.know == true, sim.pop)) # prints current number of infected\n",
    "#end"
   ]
  },
  {
   "cell_type": "code",
   "execution_count": 15,
   "metadata": {},
   "outputs": [
    {
     "data": {
      "text/plain": [
       "setup_sim (generic function with 1 method)"
      ]
     },
     "execution_count": 15,
     "metadata": {},
     "output_type": "execute_result"
    }
   ],
   "source": [
    "#                     function parameters after ; have to be \n",
    "#                     named on call \n",
    "function  setup_sim(;p, N, p_c, n_knowing, n_fact_check, b, seed)\n",
    "    # for reproducibility\n",
    "    Random.seed!(seed)\n",
    "\n",
    "    # create a population of agents, fully mixed\n",
    "    pop,adj = setup_mixed(N, p_c)\n",
    "\n",
    "    # create a simulation object with parameter values\n",
    "    sim = Simulation(p, pop)\n",
    "    for i in 1:n_knowing\n",
    "        # one percent of agents are infected\n",
    "        sim.pop[i].know = true\n",
    "        sim.pop[i].belief = b\n",
    "        sim.pop[i].checker = false\n",
    "    end\n",
    "    for i in (n_knowing+1):(n_knowing+n_fact_check+1)\n",
    "        # one percent of agents are infected\n",
    "        sim.pop[i].know = true\n",
    "        sim.pop[i].belief = 0\n",
    "        sim.pop[i].checker = true\n",
    "    end\n",
    "    sim,adj\n",
    "end"
   ]
  },
  {
   "cell_type": "code",
   "execution_count": 18,
   "metadata": {},
   "outputs": [
    {
     "data": {
      "text/plain": [
       "run_sim (generic function with 2 methods)"
      ]
     },
     "execution_count": 18,
     "metadata": {},
     "output_type": "execute_result"
    }
   ],
   "source": [
    "function run_sim(sim, n_steps,n_fact_check, verbose = false)\n",
    "    # we keep track of the numbers\n",
    "    knowing = Int[]\n",
    "    avg_belief = Float64[]\n",
    "    #remove the checker's impact\n",
    "    avg_belief_nocheck = Float64[]\n",
    "    \n",
    "    n = length(sim.pop)\n",
    "\n",
    "    # simulation steps\n",
    "    for t in  1:n_steps\n",
    "        update_agents!(sim)\n",
    "        \n",
    "        push!(knowing, count(p -> p.know == true, sim.pop))\n",
    "        \n",
    "        avg = 0\n",
    "        for i in 1:n\n",
    "            if sim.pop[i].know\n",
    "                avg = avg + sim.pop[i].belief\n",
    "            end\n",
    "        end\n",
    "        n_know = count(p -> p.know == true, sim.pop)\n",
    "        push!(avg_belief, avg /n_know)\n",
    "        avg = 0\n",
    "        for i in 1:n\n",
    "            if sim.pop[i].know && (!sim.pop[i].checker)\n",
    "                avg = avg + sim.pop[i].belief\n",
    "            end\n",
    "        end\n",
    "        n_know = count(p -> p.know == true, sim.pop) - n_fact_check\n",
    "        push!(avg_belief_nocheck, avg /n_know)\n",
    "        \n",
    "        # a bit of output\n",
    "        #if verbose\n",
    "        #    println(t, \", \", n_inf[end], \", \", n_susc[end])\n",
    "        #end\n",
    "    end\n",
    "    \n",
    "    # return the results (normalized by pop size)\n",
    "    knowing./n, avg_belief,avg_belief_nocheck\n",
    "end"
   ]
  },
  {
   "cell_type": "code",
   "execution_count": null,
   "metadata": {},
   "outputs": [],
   "source": [
    "sim,adj = setup_sim(p=0.1, N=1000, p_c=0.5, n_knowing=10,n_fact_check=10, b=1.0, seed=42)"
   ]
  },
  {
   "cell_type": "code",
   "execution_count": 17,
   "metadata": {},
   "outputs": [
    {
     "ename": "LoadError",
     "evalue": "type Tuple has no field pop",
     "output_type": "error",
     "traceback": [
      "type Tuple has no field pop",
      "",
      "Stacktrace:",
      " [1] getproperty(::Tuple{Simulation{SimplePerson},SimpleGraph{Int64}}, ::Symbol) at .\\Base.jl:33",
      " [2] run_sim(::Tuple{Simulation{SimplePerson},SimpleGraph{Int64}}, ::Int64, ::Int64, ::Bool) at .\\In[16]:8",
      " [3] run_sim(::Tuple{Simulation{SimplePerson},SimpleGraph{Int64}}, ::Int64, ::Int64) at .\\In[16]:3",
      " [4] top-level scope at In[17]:3",
      " [5] include_string(::Function, ::Module, ::String, ::String) at .\\loading.jl:1091",
      " [6] execute_code(::String, ::String) at C:\\Users\\ll1d19\\.julia\\packages\\IJulia\\a1SNk\\src\\execute_request.jl:27",
      " [7] execute_request(::ZMQ.Socket, ::IJulia.Msg) at C:\\Users\\ll1d19\\.julia\\packages\\IJulia\\a1SNk\\src\\execute_request.jl:86",
      " [8] #invokelatest#1 at .\\essentials.jl:710 [inlined]",
      " [9] invokelatest at .\\essentials.jl:709 [inlined]",
      " [10] eventloop(::ZMQ.Socket) at C:\\Users\\ll1d19\\.julia\\packages\\IJulia\\a1SNk\\src\\eventloop.jl:8",
      " [11] (::IJulia.var\"#15#18\")() at .\\task.jl:356"
     ]
    }
   ],
   "source": [
    "sim,adj = setup_sim(p=0.1, N=1000, p_c=0.5, n_knowing=10,n_fact_check=10, b=1.0, seed=42)\n",
    "# inf and susc are arrays containing the proportion of infected/susceptible over time\n",
    "knowing, avg_belief, avg_belief_nochecker = run_sim(sim, 500,10)\n",
    "\n",
    "#Plots.plot([knowing, avg_belief], labels = [\"knowing (ABM)\" \"avg belief\"])\n",
    "Plots.plot([knowing, avg_belief_nochecker], labels = [\"knowing (ABM)\" \"avg belief\"])"
   ]
  },
  {
   "cell_type": "code",
   "execution_count": 1,
   "metadata": {},
   "outputs": [
    {
     "ename": "LoadError",
     "evalue": "UndefVarError: adj not defined",
     "output_type": "error",
     "traceback": [
      "UndefVarError: adj not defined",
      "",
      "Stacktrace:",
      " [1] top-level scope",
      " [2] include_string(::Function, ::Module, ::String, ::String) at .\\loading.jl:1091",
      " [3] execute_code(::String, ::String) at C:\\Users\\ll1d19\\.julia\\packages\\IJulia\\a1SNk\\src\\execute_request.jl:27",
      " [4] execute_request(::ZMQ.Socket, ::IJulia.Msg) at C:\\Users\\ll1d19\\.julia\\packages\\IJulia\\a1SNk\\src\\execute_request.jl:86",
      " [5] #invokelatest#1 at .\\essentials.jl:710 [inlined]",
      " [6] invokelatest at .\\essentials.jl:709 [inlined]",
      " [7] eventloop(::ZMQ.Socket) at C:\\Users\\ll1d19\\.julia\\packages\\IJulia\\a1SNk\\src\\eventloop.jl:8",
      " [8] (::IJulia.var\"#15#18\")() at .\\task.jl:356"
     ]
    }
   ],
   "source": [
    "adj"
   ]
  },
  {
   "cell_type": "code",
   "execution_count": null,
   "metadata": {},
   "outputs": [],
   "source": [
    "closeness_centrality(adj)"
   ]
  },
  {
   "cell_type": "code",
   "execution_count": 7,
   "metadata": {},
   "outputs": [
    {
     "ename": "LoadError",
     "evalue": "MethodError: no method matching freqtable(::Array{UnitRange{Int64},1}, ::Int64)\nClosest candidates are:\n  freqtable(!Matched::AbstractArray{T,1} where T...; skipmissing, weights, subset) at C:\\Users\\ll1d19\\.julia\\packages\\FreqTables\\RBUzx\\src\\freqtable.jl:132\n  freqtable(::Any, !Matched::Union{AbstractString, Symbol}...; args...) at C:\\Users\\ll1d19\\.julia\\packages\\FreqTables\\RBUzx\\src\\freqtable.jl:194",
     "output_type": "error",
     "traceback": [
      "MethodError: no method matching freqtable(::Array{UnitRange{Int64},1}, ::Int64)\nClosest candidates are:\n  freqtable(!Matched::AbstractArray{T,1} where T...; skipmissing, weights, subset) at C:\\Users\\ll1d19\\.julia\\packages\\FreqTables\\RBUzx\\src\\freqtable.jl:132\n  freqtable(::Any, !Matched::Union{AbstractString, Symbol}...; args...) at C:\\Users\\ll1d19\\.julia\\packages\\FreqTables\\RBUzx\\src\\freqtable.jl:194",
      "",
      "Stacktrace:",
      " [1] top-level scope at In[7]:1",
      " [2] include_string(::Function, ::Module, ::String, ::String) at .\\loading.jl:1091",
      " [3] execute_code(::String, ::String) at C:\\Users\\ll1d19\\.julia\\packages\\IJulia\\a1SNk\\src\\execute_request.jl:27",
      " [4] execute_request(::ZMQ.Socket, ::IJulia.Msg) at C:\\Users\\ll1d19\\.julia\\packages\\IJulia\\a1SNk\\src\\execute_request.jl:86",
      " [5] #invokelatest#1 at .\\essentials.jl:710 [inlined]",
      " [6] invokelatest at .\\essentials.jl:709 [inlined]",
      " [7] eventloop(::ZMQ.Socket) at C:\\Users\\ll1d19\\.julia\\packages\\IJulia\\a1SNk\\src\\eventloop.jl:8",
      " [8] (::IJulia.var\"#15#18\")() at .\\task.jl:356"
     ]
    }
   ],
   "source": [
    "tbl = freqtable(avg_belief_nochecker)"
   ]
  },
  {
   "cell_type": "code",
   "execution_count": null,
   "metadata": {},
   "outputs": [],
   "source": []
  }
 ],
 "metadata": {
  "kernelspec": {
   "display_name": "Julia 1.5.2",
   "language": "julia",
   "name": "julia-1.5"
  },
  "language_info": {
   "file_extension": ".jl",
   "mimetype": "application/julia",
   "name": "julia",
   "version": "1.5.2"
  }
 },
 "nbformat": 4,
 "nbformat_minor": 4
}
